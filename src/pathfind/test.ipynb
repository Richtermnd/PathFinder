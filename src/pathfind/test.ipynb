{
 "cells": [
  {
   "cell_type": "code",
   "execution_count": 7,
   "metadata": {},
   "outputs": [],
   "source": [
    "import matplotlib.pyplot as plt\n",
    "from grid import *\n",
    "from pprint import pprint"
   ]
  },
  {
   "cell_type": "code",
   "execution_count": 2,
   "metadata": {},
   "outputs": [],
   "source": [
    "class RandomSurface(Grid):\n",
    "    def __init__(self, w, h) -> None:\n",
    "        super().__init__(w, h)\n",
    "        noise = PerlinNoise(octaves=min(w, h) // 4)\n",
    "        for x in range(w):\n",
    "            for y in range(h):\n",
    "                if self[x, y].is_point:\n",
    "                    continue\n",
    "                self[x, y].is_obstacle = noise((x / w, y / h)) > 0.1\n",
    "    \n",
    "    def num_grid(self):\n",
    "        return [[int(self[x, y].is_obstacle) for x in range(self.w)] for y in range(self.h)]"
   ]
  },
  {
   "cell_type": "code",
   "execution_count": 3,
   "metadata": {},
   "outputs": [
    {
     "data": {
      "image/png": "[encoded data removed]",
      "text/plain": [
       "<Figure size 640x480 with 1 Axes>"
      ]
     },
     "metadata": {},
     "output_type": "display_data"
    }
   ],
   "source": [
    "s = RandomSurface(48, 27)\n",
    "plt.imshow(s.num_grid(), cmap='gray')\n",
    "plt.show()"
   ]
  },
  {
   "cell_type": "code",
   "execution_count": 4,
   "metadata": {},
   "outputs": [],
   "source": [
    "grid = s.num_grid()"
   ]
  },
  {
   "cell_type": "code",
   "execution_count": 5,
   "metadata": {},
   "outputs": [],
   "source": [
    "with open('grid.txt', mode='w') as f:\n",
    "    for row in grid:\n",
    "        r = ''.join('#' if x else ' ' for x in row)\n",
    "        print(r, file=f)\n"
   ]
  }
 ],
 "metadata": {
  "kernelspec": {
   "display_name": "venv",
   "language": "python",
   "name": "python3"
  },
  "language_info": {
   "codemirror_mode": {
    "name": "ipython",
    "version": 3
   },
   "file_extension": ".py",
   "mimetype": "text/x-python",
   "name": "python",
   "nbconvert_exporter": "python",
   "pygments_lexer": "ipython3",
   "version": "3.10.12"
  }
 },
 "nbformat": 4,
 "nbformat_minor": 2
}
